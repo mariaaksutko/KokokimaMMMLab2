{
 "cells": [
  {
   "cell_type": "markdown",
   "id": "7f1612b8",
   "metadata": {},
   "source": [
    "$x′=kx$\n"
   ]
  },
  {
   "cell_type": "code",
   "execution_count": null,
   "id": "49e8cd79",
   "metadata": {},
   "outputs": [],
   "source": [
    "import matplotlib.pyplot as plt \n",
    "import numpy as np\n",
    "from scipy.integrate import odeint"
   ]
  },
  {
   "cell_type": "code",
   "execution_count": null,
   "id": "51637b25",
   "metadata": {},
   "outputs": [],
   "source": [
    "def dxdt(x, t): \n",
    "    k = 0.42\n",
    "    return k * x"
   ]
  },
  {
   "cell_type": "code",
   "execution_count": null,
   "id": "379fa28a",
   "metadata": {},
   "outputs": [],
   "source": [
    "t = np.linspace(0, 10, 100)"
   ]
  },
  {
   "cell_type": "code",
   "execution_count": null,
   "id": "a1cc212a",
   "metadata": {},
   "outputs": [],
   "source": [
    "solve = odeint(dxdt, x0=1, t=t) \n",
    "solve = solve.flatten()"
   ]
  },
  {
   "cell_type": "code",
   "execution_count": null,
   "id": "d2d25e81",
   "metadata": {},
   "outputs": [],
   "source": [
    "%matplotlib inline\n",
    "\n",
    "plt.plot(t, solve, label = r\"$x' = kx$\")\n",
    "plt.grid(True)\n",
    "plt.legend()\n",
    "plt.show()"
   ]
  },
  {
   "cell_type": "code",
   "execution_count": null,
   "id": "9cf3cde8",
   "metadata": {},
   "outputs": [],
   "source": []
  }
 ],
 "metadata": {
  "kernelspec": {
   "display_name": "Python 3 (ipykernel)",
   "language": "python",
   "name": "python3"
  },
  "language_info": {
   "codemirror_mode": {
    "name": "ipython",
    "version": 3
   },
   "file_extension": ".py",
   "mimetype": "text/x-python",
   "name": "python",
   "nbconvert_exporter": "python",
   "pygments_lexer": "ipython3",
   "version": "3.9.6"
  }
 },
 "nbformat": 4,
 "nbformat_minor": 5
}
